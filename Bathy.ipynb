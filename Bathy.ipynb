{
 "cells": [
  {
   "cell_type": "markdown",
   "metadata": {},
   "source": [
    "# Explore bathy data"
   ]
  },
  {
   "cell_type": "markdown",
   "metadata": {},
   "source": [
    "**Author:** Leo Peach\n",
    "\n",
    "**Purpose:** Explore bathy data to establish good locations for offshore wave data"
   ]
  },
  {
   "cell_type": "code",
   "execution_count": 2,
   "metadata": {},
   "outputs": [],
   "source": [
    "#from mpl_toolkits.basemap import Basemap\n",
    "from osgeo import gdal\n",
    "import matplotlib.pyplot as plt\n",
    "import numpy as np\n"
   ]
  },
  {
   "cell_type": "code",
   "execution_count": null,
   "metadata": {},
   "outputs": [],
   "source": []
  },
  {
   "cell_type": "code",
   "execution_count": null,
   "metadata": {},
   "outputs": [],
   "source": [
    "# Plot Size\n",
    "fig = plt.figure(figsize=(6,6),dpi=300)\n",
    "\n",
    "m = Basemap(resolution='l',projection='tmerc', lat_0=lat_0,lon_0=lon_0, llcrnrlon=110, llcrnrlat=-35\n",
    "           ,urcrnrlon=160, urcrnrlat=0.0)\n",
    "\n",
    "# Because our lon and lat variables are 1D,\n",
    "# use meshgrid to create 2D arrays\n",
    "# Not necessary if coordinates are already in 2D arrays.\n",
    "lon, lat = np.meshgrid(lons, lats)\n",
    "xi, yi = m(lon, lat)\n",
    "\n",
    "# Plot Data\n",
    "cs = m.pcolormesh(xi,yi,np.squeeze(hs[0]))\n",
    "\n",
    "# Add Grid Lines\n",
    "m.drawparallels(np.arange(-80., 81., 10.), labels=[1,0,0,0], fontsize=10)\n",
    "m.drawmeridians(np.arange(-180., 181., 10.), labels=[0,0,0,1], fontsize=10)\n",
    "\n",
    "# Add Coastlines, States, and Country Boundaries\n",
    "m.drawcoastlines()\n",
    "m.drawstates()\n",
    "m.drawcountries()\n",
    "\n",
    "# Add Colorbar\n",
    "#cbar = m.colorbar(cs, location='bottom', pad=\"10%\")\n",
    "\n",
    "# Add Title\n",
    "plt.title('BoM AUSWAVE Signifiant Wave Height')\n",
    "\n",
    "plt.savefig('AUSWAVE Model Queensland Clip.png')\n",
    "plt.show()"
   ]
  }
 ],
 "metadata": {
  "kernelspec": {
   "display_name": "py3env",
   "language": "python",
   "name": "py3env"
  },
  "language_info": {
   "codemirror_mode": {
    "name": "ipython",
    "version": 3
   },
   "file_extension": ".py",
   "mimetype": "text/x-python",
   "name": "python",
   "nbconvert_exporter": "python",
   "pygments_lexer": "ipython3",
   "version": "3.6.6"
  }
 },
 "nbformat": 4,
 "nbformat_minor": 2
}
